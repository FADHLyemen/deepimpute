{
 "cells": [
  {
   "cell_type": "markdown",
   "metadata": {},
   "source": [
    "# Single-cell RNA-seq imputation using DeepImpute\n",
    "\n",
    "Here is a comprehensive tutorial to understand the functionnalities of DeepImpute."
   ]
  },
  {
   "cell_type": "code",
   "execution_count": 1,
   "metadata": {},
   "outputs": [
    {
     "name": "stdout",
     "output_type": "stream",
     "text": [
      "Working on 500 cells and 3000 genes\n"
     ]
    }
   ],
   "source": [
    "from deepimpute.multinet import MultiNet\n",
    "import pandas as pd\n",
    "\n",
    "# Load dataset using pandas\n",
    "data = pd.read_csv('examples/test.csv',index_col=0)\n",
    "print('Working on {} cells and {} genes'.format(*data.shape))"
   ]
  },
  {
   "cell_type": "markdown",
   "metadata": {},
   "source": [
    "## Create a DeepImpute multinet"
   ]
  },
  {
   "cell_type": "code",
   "execution_count": 2,
   "metadata": {
    "collapsed": true
   },
   "outputs": [],
   "source": [
    "# Using default parameters\n",
    "multinet = MultiNet() "
   ]
  },
  {
   "cell_type": "code",
   "execution_count": 3,
   "metadata": {
    "collapsed": true
   },
   "outputs": [],
   "source": [
    "# Using custom parameters\n",
    "NN_params = {'max_epochs': 200,\n",
    "            'learning_rate': 1e-4,\n",
    "            'dims': [20,600], # 500 output neurons, 20 highest correlated genes for each output gene\n",
    "            'batch_size': 64,\n",
    "            'layers': [{'label': 'dense', 'activation': 'relu', 'nb_neurons': 150},\n",
    "                       {'label': 'dropout', 'activation': 'dropout', 'rate': 0.15},\n",
    "                       {'label': 'dense', 'activation': 'relu'}], # Output neurons for layer 3: dims[1]\n",
    "            'n_cores': 8\n",
    "            }\n",
    "\n",
    "multinet = MultiNet(**NN_params)"
   ]
  },
  {
   "cell_type": "markdown",
   "metadata": {},
   "source": [
    "## Fit the networks"
   ]
  },
  {
   "cell_type": "code",
   "execution_count": 4,
   "metadata": {},
   "outputs": [
    {
     "name": "stdout",
     "output_type": "stream",
     "text": [
      "Gene prediction limit set to 2085 genes\n",
      "Using 1040 genes as potential predictors\n",
      "Starting training with 500 cells (100.0%) on 4 threads (2 cores/thread).\n",
      "Training finished after 101 epochs.\n",
      "Training finished after 123 epochs.\n",
      "Training finished after 118 epochs.\n",
      "Training finished after 160 epochs.\n"
     ]
    },
    {
     "data": {
      "text/plain": [
       "<deepimpute.multinet.MultiNet at 0x7f979a8407b8>"
      ]
     },
     "execution_count": 4,
     "metadata": {},
     "output_type": "execute_result"
    }
   ],
   "source": [
    "# Using all the data\n",
    "multinet.fit(data,cell_subset=1)"
   ]
  },
  {
   "cell_type": "code",
   "execution_count": 5,
   "metadata": {},
   "outputs": [
    {
     "name": "stdout",
     "output_type": "stream",
     "text": [
      "Gene prediction limit set to 2085 genes\n",
      "Using 1040 genes as potential predictors\n",
      "Starting training with 400 cells (80.0%) on 4 threads (2 cores/thread).\n",
      "Training finished after 91 epochs.\n",
      "Training finished after 91 epochs.\n",
      "Training finished after 91 epochs.\n",
      "Training finished after 102 epochs.\n"
     ]
    },
    {
     "data": {
      "text/plain": [
       "<deepimpute.multinet.MultiNet at 0x7f979a8407b8>"
      ]
     },
     "execution_count": 5,
     "metadata": {},
     "output_type": "execute_result"
    }
   ],
   "source": [
    "# Using 80% of the data\n",
    "multinet.fit(data,cell_subset=0.8)"
   ]
  },
  {
   "cell_type": "code",
   "execution_count": 6,
   "metadata": {},
   "outputs": [
    {
     "name": "stdout",
     "output_type": "stream",
     "text": [
      "Gene prediction limit set to 2085 genes\n",
      "Using 1040 genes as potential predictors\n",
      "Starting training with 200 cells (40.0%) on 4 threads (2 cores/thread).\n",
      "Training finished after 54 epochs.\n",
      "Training finished after 55 epochs.\n",
      "Training finished after 55 epochs.\n",
      "Training finished after 60 epochs.\n"
     ]
    },
    {
     "data": {
      "text/plain": [
       "<deepimpute.multinet.MultiNet at 0x7f979a8407b8>"
      ]
     },
     "execution_count": 6,
     "metadata": {},
     "output_type": "execute_result"
    }
   ],
   "source": [
    "# Using 200 cells (randomly selected)\n",
    "multinet.fit(data,cell_subset=200)"
   ]
  },
  {
   "cell_type": "code",
   "execution_count": 7,
   "metadata": {},
   "outputs": [
    {
     "name": "stdout",
     "output_type": "stream",
     "text": [
      "Gene prediction limit set to 1940 genes\n",
      "Using 925 genes as potential predictors\n",
      "Starting training with 150 cells (100.0%) on 4 threads (2 cores/thread).\n",
      "Training finished after 81 epochs.\n",
      "Training finished after 81 epochs.\n",
      "Training finished after 104 epochs.\n",
      "Training finished after 104 epochs.\n"
     ]
    },
    {
     "data": {
      "text/plain": [
       "<deepimpute.multinet.MultiNet at 0x7f979a8407b8>"
      ]
     },
     "execution_count": 7,
     "metadata": {},
     "output_type": "execute_result"
    }
   ],
   "source": [
    "# Custom fit\n",
    "trainingData = data.iloc[100:250,:]\n",
    "multinet.fit(trainingData)"
   ]
  },
  {
   "cell_type": "markdown",
   "metadata": {},
   "source": [
    "## Imputation\n",
    "\n",
    "The imputation can be done on any dataset as long as the gene labels are the same"
   ]
  },
  {
   "cell_type": "code",
   "execution_count": 8,
   "metadata": {},
   "outputs": [
    {
     "name": "stdout",
     "output_type": "stream",
     "text": [
      "Starting prediction\n",
      "INFO:tensorflow:Restoring parameters from /tmp/run/39c9037d1b/lr=0.0001_bs=64_dims=20-600_nodes=150_dp=0.15_b'cbae57'/Checkpoint-81\n",
      "INFO:tensorflow:Restoring parameters from /tmp/run/39c9037d1b/lr=0.0001_bs=64_dims=20-600_nodes=150_dp=0.15_b'da268d'/Checkpoint-104\n",
      "INFO:tensorflow:Restoring parameters from /tmp/run/39c9037d1b/lr=0.0001_bs=64_dims=20-600_nodes=150_dp=0.15_b'94b7b2'/Checkpoint-104\n",
      "INFO:tensorflow:Restoring parameters from /tmp/run/39c9037d1b/lr=0.0001_bs=64_dims=20-600_nodes=150_dp=0.15_b'68566b'/Checkpoint-81\n"
     ]
    }
   ],
   "source": [
    "imputedData = multinet.predict(data)"
   ]
  },
  {
   "cell_type": "markdown",
   "metadata": {},
   "source": [
    "## Visualization"
   ]
  },
  {
   "cell_type": "code",
   "execution_count": 9,
   "metadata": {},
   "outputs": [
    {
     "data": {
      "image/png": "[encoded data removed]",
      "text/plain": [
       "<Figure size 432x288 with 1 Axes>"
      ]
     },
     "metadata": {},
     "output_type": "display_data"
    }
   ],
   "source": [
    "import matplotlib.pyplot as plt\n",
    "import numpy as np\n",
    "\n",
    "limits = [0,100]\n",
    "\n",
    "fig,ax = plt.subplots()\n",
    "\n",
    "jitter = np.random.normal(0,1,data.size) # Add some jittering to better see the point density\n",
    "ax.scatter(data.values.flatten()+jitter,imputedData.values.flatten(),s=2)\n",
    "ax.plot(limits,limits,'r-.',linewidth=2)\n",
    "ax.set_xlim(limits)\n",
    "ax.set_ylim(limits)\n",
    "\n",
    "plt.show()\n"
   ]
  },
  {
   "cell_type": "markdown",
   "metadata": {},
   "source": [
    "## Scoring"
   ]
  },
  {
   "cell_type": "code",
   "execution_count": 10,
   "metadata": {},
   "outputs": [
    {
     "name": "stdout",
     "output_type": "stream",
     "text": [
      "Starting prediction\n",
      "INFO:tensorflow:Restoring parameters from /tmp/run/8164bb9ea1/lr=0.0001_bs=64_dims=20-600_nodes=150_dp=0.15_b'd346d8'/Checkpoint-81\n",
      "INFO:tensorflow:Restoring parameters from /tmp/run/8164bb9ea1/lr=0.0001_bs=64_dims=20-600_nodes=150_dp=0.15_b'ff80d9'/Checkpoint-81\n",
      "INFO:tensorflow:Restoring parameters from /tmp/run/8164bb9ea1/lr=0.0001_bs=64_dims=20-600_nodes=150_dp=0.15_b'12a652'/Checkpoint-104\n",
      "INFO:tensorflow:Restoring parameters from /tmp/run/8164bb9ea1/lr=0.0001_bs=64_dims=20-600_nodes=150_dp=0.15_b'b2289a'/Checkpoint-104\n"
     ]
    },
    {
     "data": {
      "text/plain": [
       "0.6051813375162249"
      ]
     },
     "execution_count": 10,
     "metadata": {},
     "output_type": "execute_result"
    }
   ],
   "source": [
    "multinet.score(data)"
   ]
  }
 ],
 "metadata": {
  "kernelspec": {
   "display_name": "Python 3",
   "language": "python",
   "name": "python3"
  },
  "language_info": {
   "codemirror_mode": {
    "name": "ipython",
    "version": 3
   },
   "file_extension": ".py",
   "mimetype": "text/x-python",
   "name": "python",
   "nbconvert_exporter": "python",
   "pygments_lexer": "ipython3",
   "version": "3.6.1"
  }
 },
 "nbformat": 4,
 "nbformat_minor": 2
}
